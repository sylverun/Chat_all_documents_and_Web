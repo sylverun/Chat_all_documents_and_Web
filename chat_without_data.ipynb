{
 "cells": [
  {
   "cell_type": "code",
   "execution_count": 1,
   "id": "1da4b12d-e56b-41a7-bfb9-cf2acf78263b",
   "metadata": {},
   "outputs": [
    {
     "data": {
      "text/plain": [
       "True"
      ]
     },
     "execution_count": 1,
     "metadata": {},
     "output_type": "execute_result"
    }
   ],
   "source": [
    "from langchain_community.llms import HuggingFaceHub\n",
    "from langchain.prompts import PromptTemplate\n",
    "from langchain.chains import LLMChain\n",
    "from dotenv import load_dotenv\n",
    "\n",
    "load_dotenv()"
   ]
  },
  {
   "cell_type": "code",
   "execution_count": 4,
   "id": "2eeb471b-5141-4228-a220-94126beb6409",
   "metadata": {},
   "outputs": [],
   "source": [
    "def generate_pet_name(animal_type, couleur):\n",
    "    llm= HuggingFaceHub(repo_id=\"mistralai/Mixtral-8x7B-Instruct-v0.1\", model_kwargs={\"temperature\":0.7})\n",
    "    \n",
    "    prompt_template_name= PromptTemplate(\n",
    "        input_variables=['animal_type', 'couleur'],template=\" J'ai {animal_type} qui est de couleur {couleur} et je veux lui donner un nom cool. Donne moi seulement une liste de 5 noms cools pour mon animal.\")\n",
    "    name_chain= LLMChain(llm=llm, prompt=prompt_template_name)\n",
    "    response = name_chain.invoke({'animal_type': animal_type, 'couleur': couleur})\n",
    "    return response"
   ]
  },
  {
   "cell_type": "code",
   "execution_count": 5,
   "id": "a85a1509-327a-45be-ba26-35f89ace7273",
   "metadata": {},
   "outputs": [
    {
     "name": "stdout",
     "output_type": "stream",
     "text": [
      "{'animal_type': 'une vache', 'couleur': 'noire', 'text': \" J'ai une vache qui est de couleur noire et je veux lui donner un nom cool. Donne moi seulement une liste de 5 noms cools pour mon animal.\\n\\n1. Nuage Noir\\n2. Cœur de Nuit\\n3. Obscurité\\n4. Ombre\\n5. Nocturne\"}\n"
     ]
    }
   ],
   "source": [
    "print(generate_pet_name(\"une vache\",\"noire\"))"
   ]
  }
 ],
 "metadata": {
  "kernelspec": {
   "display_name": "Python 3 (ipykernel)",
   "language": "python",
   "name": "python3"
  },
  "language_info": {
   "codemirror_mode": {
    "name": "ipython",
    "version": 3
   },
   "file_extension": ".py",
   "mimetype": "text/x-python",
   "name": "python",
   "nbconvert_exporter": "python",
   "pygments_lexer": "ipython3",
   "version": "3.9.13"
  }
 },
 "nbformat": 4,
 "nbformat_minor": 5
}
